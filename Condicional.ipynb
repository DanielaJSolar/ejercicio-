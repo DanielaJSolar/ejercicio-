{
  "nbformat": 4,
  "nbformat_minor": 0,
  "metadata": {
    "colab": {
      "provenance": [],
      "toc_visible": true,
      "authorship_tag": "ABX9TyNiskJ9F3Yt9Gq9xFLxnkGm",
      "include_colab_link": true
    },
    "kernelspec": {
      "name": "python3",
      "display_name": "Python 3"
    },
    "language_info": {
      "name": "python"
    }
  },
  "cells": [
    {
      "cell_type": "markdown",
      "metadata": {
        "id": "view-in-github",
        "colab_type": "text"
      },
      "source": [
        "<a href=\"https://colab.research.google.com/github/DanielaJSolar/ejercicio-/blob/main/Condicional.ipynb\" target=\"_parent\"><img src=\"https://colab.research.google.com/assets/colab-badge.svg\" alt=\"Open In Colab\"/></a>"
      ]
    },
    {
      "cell_type": "markdown",
      "source": [],
      "metadata": {
        "id": "L0tJN7xj-k8f"
      }
    },
    {
      "cell_type": "markdown",
      "source": [
        "##problema\n",
        "Problema: Cálculo del Precio de Boletas en el Cine\n",
        "Descripción del problema: Un cine local ofrece promociones en las entradas según el horario de la función. Las reglas para determinar el costo de las entradas son las siguientes:\n",
        "\n",
        "Para cualquier función antes de las 6:00 p.m., las entradas tienen los siguientes precios:\n",
        "Niños: $5,000 COP.\n",
        "Adultos: $7,500 COP.\n",
        "Para funciones después de las 6:00 p.m., el precio de la entrada es general:\n",
        "Entrada general: $10,000 COP por persona.\n",
        "Además, si el total de la compra supera los $50,000 COP, el cine regala una crispeta familiar.\n",
        "Entradas del problema:\n",
        "num_ninos: número de niños en el grupo.\n",
        "num_adultos: número de adultos en el grupo.\n",
        "hora_funcion: hora de la función en formato de 24 horas (por ejemplo, 14 para las 2 p.m., 19 para las 7 p.m.).\n",
        "Salidas esperadas:\n",
        "El total a pagar por las entradas.\n",
        "Si se obtiene o no la crispeta familiar.\n",
        "\n",
        "Ejemplo 1:\n",
        "Entrada: num_ninos = 2, num_adultos = 3, hora_funcion = 15.\n",
        "Salida: Total a pagar = $32,500 COP, crispeta familiar = No.\n",
        "Explicación del ejemplo:\n",
        "\n",
        "La función es a las 3:00 p.m. (antes de las 6:00 p.m.), por lo que se aplican las tarifas de la promoción:\n",
        "Niños: 2 * $5,000 = $10,000 COP.\n",
        "Adultos: 3 * $7,500 = $22,500 COP.\n",
        "Total: $10,000 + $22,500 = $32,500 COP.\n",
        "Como el total es menor a $50,000, no se obtiene la crispeta familiar.\n",
        "\n",
        "Ejemplo 2:\n",
        "Entrada: num_ninos = 3, num_adultos = 5, hora_funcion = 19.\n",
        "Salida: Total a pagar = $80,000 COP, crispeta familiar = Sí.\n",
        "Explicación del ejemplo:\n",
        "\n",
        "La función es a las 7:00 p.m. (después de las 6:00 p.m.), por lo que se aplica el precio de entrada general:\n",
        "General: 8 * $10,000 = $80,000 COP.\n",
        "Total: $80,000 COP.\n",
        "Como el total es mayor a $50,000, se obtiene la crispeta familiar"
      ],
      "metadata": {
        "id": "-Pg16EPs-pxx"
      }
    },
    {
      "cell_type": "markdown",
      "source": [
        "# Sección nueva"
      ],
      "metadata": {
        "id": "t-voorg3HENh"
      }
    },
    {
      "cell_type": "markdown",
      "source": [
        "## Algoritmo para determinar el valor a pagar en cine\n",
        "1. iniciar\n",
        "2. obtener el numero de adultos que entrara en la funcion\n",
        "3. obtener la hora de funcion (0-24)\n",
        "5. determinar el total dependiendo de la hora de la funcion:\n",
        "\n",
        "\n",
        "*   si la hora es menor a 18, entonces: total= num_niños*5000 + num_adultos*7500\n",
        "*   Si la hora es mayor o igual a 18, entonces: total = (num_ninños + num_adultos) * 10000\n",
        "6. Mostrar total\n",
        "Si el total es mayor a $50000, indicar que se han ganado una crispeta gratis\n",
        "7. Finalizar\n",
        "\n",
        "\n",
        "###Pseudocodigo\n",
        "\n",
        "Program calcularEntradasCine\n",
        "Start\n",
        "  // Programa para calcular el total de las entradas a cine\n",
        "  Declare Int num_ninos\n",
        "  Declare Int num_adultos\n",
        "  Declare Int hora\n",
        "  Declare Float total\n",
        "\n",
        "  Display \"Ingrese el número de niños: \"\n",
        "  Input num_ninos\n",
        "  Display \"Ingrese el número de adultos: \"\n",
        "  Input num_adultos\n",
        "  Display \"Ingrese la hora de la función (0 - 23): \"\n",
        "  Input hora\n",
        "  \n",
        "  // Determinar el total a pagar dependiendo de la hora de la función\n",
        "  If hora < 18 Then\n",
        "    total = num_ninos * 5000 + num_adultos * 7500\n",
        "  Else\n",
        "    total = (num_ninos + num_adultos) * 10000\n",
        "  End If\n",
        "  \n",
        "  Display \"El total a pagar es \", total\n",
        "\n",
        "  // Determinar si el grupo se gana unas crispetas\n",
        "  If total > 50000 Then\n",
        "    Display \"Se ha ganado unas crispetas familiar.\"\n",
        "  End If\n",
        "  \n",
        "  Display \"Disfrute de la función :)\"\n",
        "\n",
        "End\n",
        "\n",
        "\n",
        "\n"
      ],
      "metadata": {
        "id": "IooQTdjk-u6n"
      }
    },
    {
      "cell_type": "code",
      "source": [
        "num_ninos = int(input(\"Ingrese el número de niños: \"))\n",
        "num_adultos = int(input(\"Ingrese el número de adultos: \"))\n",
        "hora = int(input(\"Ingrese la hora de la función (0 - 23): \"))\n",
        "\n",
        "if hora < 18:\n",
        "  total = num_ninos * 5000 + num_adultos * 7500\n",
        "else:\n",
        "  total = (num_ninos + num_adultos) * 10000\n",
        "\n",
        "print(\"El total a pagar es $\", total)\n",
        "\n",
        "if total > 50000:\n",
        "  print(\"Se ha ganado unas crispetas familiar.\")\n",
        "\n",
        "print(\"Disfrute de la función :)\")"
      ],
      "metadata": {
        "colab": {
          "base_uri": "https://localhost:8080/"
        },
        "id": "e9pzUjw3EOw7",
        "outputId": "dc25ac78-08e4-40d1-f573-d18a82502903"
      },
      "execution_count": null,
      "outputs": [
        {
          "output_type": "stream",
          "name": "stdout",
          "text": [
            "Ingrese el número de niños: 2\n",
            "Ingrese el número de adultos: 3\n",
            "Ingrese la hora de la función (0 - 23): 15\n",
            "El total a pagar es $ 32500\n",
            "Disfrute de la función :)\n"
          ]
        }
      ]
    }
  ]
}